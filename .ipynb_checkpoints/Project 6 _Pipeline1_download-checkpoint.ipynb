{
 "cells": [
  {
   "cell_type": "code",
   "execution_count": 1,
   "metadata": {
    "collapsed": true
   },
   "outputs": [],
   "source": [
    "import os\n",
    "os.chdir('../')"
   ]
  },
  {
   "cell_type": "code",
   "execution_count": 2,
   "metadata": {
    "collapsed": true
   },
   "outputs": [],
   "source": [
    "import lib.database_module as db\n",
    "import lib.encoding_module as enc\n",
    "import lib.wiki_module as wiki\n",
    "import pandas as pd\n",
    "import yaml"
   ]
  },
  {
   "cell_type": "code",
   "execution_count": 3,
   "metadata": {
    "collapsed": false
   },
   "outputs": [
    {
     "name": "stdout",
     "output_type": "stream",
     "text": [
      "Connected to server joshuacook.me.\n"
     ]
    }
   ],
   "source": [
    "conn, cur = db.connect_to_postgres()"
   ]
  },
  {
   "cell_type": "markdown",
   "metadata": {},
   "source": [
    "### Acquire: Get categories to query from a yaml file"
   ]
  },
  {
   "cell_type": "code",
   "execution_count": 4,
   "metadata": {
    "collapsed": false
   },
   "outputs": [],
   "source": [
    "with open(\"/Users/kdgulko/dsi/dsi_workspace/projects/project-06/data/categories.yml\") as yaml_file:\n",
    "    categories = (yaml.load(yaml_file))"
   ]
  },
  {
   "cell_type": "code",
   "execution_count": 5,
   "metadata": {
    "collapsed": false
   },
   "outputs": [
    {
     "data": {
      "text/plain": [
       "{'categories': ['Submarine sandwich restaurants', 'Belief']}"
      ]
     },
     "execution_count": 5,
     "metadata": {},
     "output_type": "execute_result"
    }
   ],
   "source": [
    "categories"
   ]
  },
  {
   "cell_type": "markdown",
   "metadata": {},
   "source": [
    "### Acquire: Query Wikipedia by category for pages"
   ]
  },
  {
   "cell_type": "code",
   "execution_count": 6,
   "metadata": {
    "collapsed": false
   },
   "outputs": [],
   "source": [
    "responses = []\n",
    "for cat in categories['categories']:\n",
    "    response = wiki.query_category(cat)\n",
    "    responses.append(response)"
   ]
  },
  {
   "cell_type": "code",
   "execution_count": 7,
   "metadata": {
    "collapsed": false
   },
   "outputs": [],
   "source": [
    "responses_df = pd.concat([pd.DataFrame(response) for response in responses])"
   ]
  },
  {
   "cell_type": "code",
   "execution_count": 8,
   "metadata": {
    "collapsed": false,
    "scrolled": true
   },
   "outputs": [
    {
     "data": {
      "text/html": [
       "<div>\n",
       "<table border=\"1\" class=\"dataframe\">\n",
       "  <thead>\n",
       "    <tr style=\"text-align: right;\">\n",
       "      <th></th>\n",
       "      <th>categoryid</th>\n",
       "      <th>pages</th>\n",
       "    </tr>\n",
       "  </thead>\n",
       "  <tbody>\n",
       "    <tr>\n",
       "      <th>0</th>\n",
       "      <td>24580905</td>\n",
       "      <td>{u'pageid': 43460147, u'title': u'List of subm...</td>\n",
       "    </tr>\n",
       "    <tr>\n",
       "      <th>1</th>\n",
       "      <td>24580905</td>\n",
       "      <td>{u'pageid': 31940835, u'title': u'Big Bite Sub...</td>\n",
       "    </tr>\n",
       "    <tr>\n",
       "      <th>2</th>\n",
       "      <td>24580905</td>\n",
       "      <td>{u'pageid': 32012383, u'title': u'Big John Ste...</td>\n",
       "    </tr>\n",
       "    <tr>\n",
       "      <th>3</th>\n",
       "      <td>24580905</td>\n",
       "      <td>{u'pageid': 2371008, u'title': u'Blimpie'}</td>\n",
       "    </tr>\n",
       "    <tr>\n",
       "      <th>4</th>\n",
       "      <td>24580905</td>\n",
       "      <td>{u'pageid': 5778816, u'title': u'Capriotti's'}</td>\n",
       "    </tr>\n",
       "  </tbody>\n",
       "</table>\n",
       "</div>"
      ],
      "text/plain": [
       "  categoryid                                              pages\n",
       "0   24580905  {u'pageid': 43460147, u'title': u'List of subm...\n",
       "1   24580905  {u'pageid': 31940835, u'title': u'Big Bite Sub...\n",
       "2   24580905  {u'pageid': 32012383, u'title': u'Big John Ste...\n",
       "3   24580905         {u'pageid': 2371008, u'title': u'Blimpie'}\n",
       "4   24580905     {u'pageid': 5778816, u'title': u'Capriotti's'}"
      ]
     },
     "execution_count": 8,
     "metadata": {},
     "output_type": "execute_result"
    }
   ],
   "source": [
    "responses_df.head()"
   ]
  },
  {
   "cell_type": "code",
   "execution_count": 9,
   "metadata": {
    "collapsed": false
   },
   "outputs": [
    {
     "data": {
      "text/plain": [
       "['24580905', '956054']"
      ]
     },
     "execution_count": 9,
     "metadata": {},
     "output_type": "execute_result"
    }
   ],
   "source": [
    "cat_ids = [response['categoryid'] for response in responses]\n",
    "cat_ids"
   ]
  },
  {
   "cell_type": "code",
   "execution_count": 10,
   "metadata": {
    "collapsed": false
   },
   "outputs": [
    {
     "data": {
      "text/plain": [
       "[('Submarine sandwich restaurants', '24580905'), ('Belief', '956054')]"
      ]
     },
     "execution_count": 10,
     "metadata": {},
     "output_type": "execute_result"
    }
   ],
   "source": [
    "zipped = zip(categories['categories'], cat_ids)\n",
    "zipped    "
   ]
  },
  {
   "cell_type": "markdown",
   "metadata": {},
   "source": [
    "### Acquire: Write category info to database\t"
   ]
  },
  {
   "cell_type": "code",
   "execution_count": 11,
   "metadata": {
    "collapsed": false
   },
   "outputs": [
    {
     "name": "stdout",
     "output_type": "stream",
     "text": [
      "('Submarine sandwich restaurants', '24580905')\n",
      "Connected to server joshuacook.me.\n",
      "('Belief', '956054')\n",
      "Connected to server joshuacook.me.\n"
     ]
    }
   ],
   "source": [
    "for cat in zip(categories['categories'], cat_ids):\n",
    "    print(cat)\n",
    "    db.create_or_update_category_in_database(cat[1], cat[0])"
   ]
  },
  {
   "cell_type": "code",
   "execution_count": 12,
   "metadata": {
    "collapsed": false
   },
   "outputs": [
    {
     "data": {
      "text/html": [
       "<div>\n",
       "<table border=\"1\" class=\"dataframe\">\n",
       "  <thead>\n",
       "    <tr style=\"text-align: right;\">\n",
       "      <th></th>\n",
       "      <th>pageid</th>\n",
       "      <th>title</th>\n",
       "    </tr>\n",
       "  </thead>\n",
       "  <tbody>\n",
       "    <tr>\n",
       "      <th>0</th>\n",
       "      <td>102883</td>\n",
       "      <td>Belief</td>\n",
       "    </tr>\n",
       "    <tr>\n",
       "      <th>1</th>\n",
       "      <td>14541296</td>\n",
       "      <td>Portal:Contents/Religion and belief systems</td>\n",
       "    </tr>\n",
       "    <tr>\n",
       "      <th>2</th>\n",
       "      <td>31459363</td>\n",
       "      <td>Affective disposition theory</td>\n",
       "    </tr>\n",
       "    <tr>\n",
       "      <th>3</th>\n",
       "      <td>27573639</td>\n",
       "      <td>Alief (mental state)</td>\n",
       "    </tr>\n",
       "    <tr>\n",
       "      <th>4</th>\n",
       "      <td>191703</td>\n",
       "      <td>Anthropocentrism</td>\n",
       "    </tr>\n",
       "    <tr>\n",
       "      <th>5</th>\n",
       "      <td>19887527</td>\n",
       "      <td>Availability cascade</td>\n",
       "    </tr>\n",
       "    <tr>\n",
       "      <th>6</th>\n",
       "      <td>1392096</td>\n",
       "      <td>Bad faith</td>\n",
       "    </tr>\n",
       "    <tr>\n",
       "      <th>7</th>\n",
       "      <td>1892726</td>\n",
       "      <td>Basic belief</td>\n",
       "    </tr>\n",
       "    <tr>\n",
       "      <th>8</th>\n",
       "      <td>16670432</td>\n",
       "      <td>Belief in God</td>\n",
       "    </tr>\n",
       "    <tr>\n",
       "      <th>9</th>\n",
       "      <td>40111274</td>\n",
       "      <td>Belief in luck</td>\n",
       "    </tr>\n",
       "    <tr>\n",
       "      <th>10</th>\n",
       "      <td>1187311</td>\n",
       "      <td>Belief revision</td>\n",
       "    </tr>\n",
       "    <tr>\n",
       "      <th>11</th>\n",
       "      <td>3280462</td>\n",
       "      <td>Belief-desire-intention model</td>\n",
       "    </tr>\n",
       "    <tr>\n",
       "      <th>12</th>\n",
       "      <td>5289291</td>\n",
       "      <td>Blind men and an elephant</td>\n",
       "    </tr>\n",
       "    <tr>\n",
       "      <th>13</th>\n",
       "      <td>169305</td>\n",
       "      <td>Cognitive dissonance</td>\n",
       "    </tr>\n",
       "    <tr>\n",
       "      <th>14</th>\n",
       "      <td>21478754</td>\n",
       "      <td>Common sense</td>\n",
       "    </tr>\n",
       "    <tr>\n",
       "      <th>15</th>\n",
       "      <td>63392</td>\n",
       "      <td>Consensus reality</td>\n",
       "    </tr>\n",
       "    <tr>\n",
       "      <th>16</th>\n",
       "      <td>384236</td>\n",
       "      <td>Crank (person)</td>\n",
       "    </tr>\n",
       "    <tr>\n",
       "      <th>17</th>\n",
       "      <td>651358</td>\n",
       "      <td>Credibility</td>\n",
       "    </tr>\n",
       "    <tr>\n",
       "      <th>18</th>\n",
       "      <td>24400334</td>\n",
       "      <td>Credulity</td>\n",
       "    </tr>\n",
       "    <tr>\n",
       "      <th>19</th>\n",
       "      <td>27353457</td>\n",
       "      <td>Cynicism (contemporary)</td>\n",
       "    </tr>\n",
       "    <tr>\n",
       "      <th>20</th>\n",
       "      <td>125296</td>\n",
       "      <td>Delusion</td>\n",
       "    </tr>\n",
       "    <tr>\n",
       "      <th>21</th>\n",
       "      <td>226660</td>\n",
       "      <td>Dempster-Shafer theory</td>\n",
       "    </tr>\n",
       "    <tr>\n",
       "      <th>22</th>\n",
       "      <td>1631852</td>\n",
       "      <td>Denial</td>\n",
       "    </tr>\n",
       "    <tr>\n",
       "      <th>23</th>\n",
       "      <td>48656171</td>\n",
       "      <td>Disclosing New Worlds</td>\n",
       "    </tr>\n",
       "    <tr>\n",
       "      <th>24</th>\n",
       "      <td>4265764</td>\n",
       "      <td>Disposition</td>\n",
       "    </tr>\n",
       "    <tr>\n",
       "      <th>25</th>\n",
       "      <td>21899301</td>\n",
       "      <td>Disquotational principle</td>\n",
       "    </tr>\n",
       "    <tr>\n",
       "      <th>26</th>\n",
       "      <td>18935258</td>\n",
       "      <td>Doctrine</td>\n",
       "    </tr>\n",
       "    <tr>\n",
       "      <th>27</th>\n",
       "      <td>3063973</td>\n",
       "      <td>Doxa</td>\n",
       "    </tr>\n",
       "    <tr>\n",
       "      <th>28</th>\n",
       "      <td>4649149</td>\n",
       "      <td>Doxastic attitudes</td>\n",
       "    </tr>\n",
       "    <tr>\n",
       "      <th>29</th>\n",
       "      <td>12065590</td>\n",
       "      <td>Doxastic logic</td>\n",
       "    </tr>\n",
       "    <tr>\n",
       "      <th>...</th>\n",
       "      <td>...</td>\n",
       "      <td>...</td>\n",
       "    </tr>\n",
       "    <tr>\n",
       "      <th>43</th>\n",
       "      <td>158659</td>\n",
       "      <td>Ideological assumption</td>\n",
       "    </tr>\n",
       "    <tr>\n",
       "      <th>44</th>\n",
       "      <td>306326</td>\n",
       "      <td>Ignorance</td>\n",
       "    </tr>\n",
       "    <tr>\n",
       "      <th>45</th>\n",
       "      <td>44523981</td>\n",
       "      <td>Implicit theories of intelligence</td>\n",
       "    </tr>\n",
       "    <tr>\n",
       "      <th>46</th>\n",
       "      <td>1432410</td>\n",
       "      <td>Leap of faith</td>\n",
       "    </tr>\n",
       "    <tr>\n",
       "      <th>47</th>\n",
       "      <td>4392610</td>\n",
       "      <td>Life stance</td>\n",
       "    </tr>\n",
       "    <tr>\n",
       "      <th>48</th>\n",
       "      <td>32024788</td>\n",
       "      <td>Opinio tolerata</td>\n",
       "    </tr>\n",
       "    <tr>\n",
       "      <th>49</th>\n",
       "      <td>1348330</td>\n",
       "      <td>Opinion</td>\n",
       "    </tr>\n",
       "    <tr>\n",
       "      <th>50</th>\n",
       "      <td>6415906</td>\n",
       "      <td>Overbelief</td>\n",
       "    </tr>\n",
       "    <tr>\n",
       "      <th>51</th>\n",
       "      <td>24897</td>\n",
       "      <td>Persuasion</td>\n",
       "    </tr>\n",
       "    <tr>\n",
       "      <th>52</th>\n",
       "      <td>17645570</td>\n",
       "      <td>Philosophical theory</td>\n",
       "    </tr>\n",
       "    <tr>\n",
       "      <th>53</th>\n",
       "      <td>31564169</td>\n",
       "      <td>Philosophy of happiness</td>\n",
       "    </tr>\n",
       "    <tr>\n",
       "      <th>54</th>\n",
       "      <td>18081194</td>\n",
       "      <td>Plausibility structure</td>\n",
       "    </tr>\n",
       "    <tr>\n",
       "      <th>55</th>\n",
       "      <td>30431633</td>\n",
       "      <td>Political myth</td>\n",
       "    </tr>\n",
       "    <tr>\n",
       "      <th>56</th>\n",
       "      <td>34741578</td>\n",
       "      <td>Popular belief</td>\n",
       "    </tr>\n",
       "    <tr>\n",
       "      <th>57</th>\n",
       "      <td>4517698</td>\n",
       "      <td>Pre-theoretic belief</td>\n",
       "    </tr>\n",
       "    <tr>\n",
       "      <th>58</th>\n",
       "      <td>238114</td>\n",
       "      <td>Real life</td>\n",
       "    </tr>\n",
       "    <tr>\n",
       "      <th>59</th>\n",
       "      <td>745202</td>\n",
       "      <td>Reality tunnel</td>\n",
       "    </tr>\n",
       "    <tr>\n",
       "      <th>60</th>\n",
       "      <td>42446</td>\n",
       "      <td>Reason</td>\n",
       "    </tr>\n",
       "    <tr>\n",
       "      <th>61</th>\n",
       "      <td>4799593</td>\n",
       "      <td>Recantation</td>\n",
       "    </tr>\n",
       "    <tr>\n",
       "      <th>62</th>\n",
       "      <td>188496</td>\n",
       "      <td>Reflective equilibrium</td>\n",
       "    </tr>\n",
       "    <tr>\n",
       "      <th>63</th>\n",
       "      <td>36534480</td>\n",
       "      <td>Sailors' superstitions</td>\n",
       "    </tr>\n",
       "    <tr>\n",
       "      <th>64</th>\n",
       "      <td>35300851</td>\n",
       "      <td>Sententia certa</td>\n",
       "    </tr>\n",
       "    <tr>\n",
       "      <th>65</th>\n",
       "      <td>35300776</td>\n",
       "      <td>Sententia fidei proxima</td>\n",
       "    </tr>\n",
       "    <tr>\n",
       "      <th>66</th>\n",
       "      <td>32024866</td>\n",
       "      <td>Sententia probabilis</td>\n",
       "    </tr>\n",
       "    <tr>\n",
       "      <th>67</th>\n",
       "      <td>22280378</td>\n",
       "      <td>Source credibility</td>\n",
       "    </tr>\n",
       "    <tr>\n",
       "      <th>68</th>\n",
       "      <td>28387</td>\n",
       "      <td>Spirituality</td>\n",
       "    </tr>\n",
       "    <tr>\n",
       "      <th>69</th>\n",
       "      <td>30876878</td>\n",
       "      <td>True-believer syndrome</td>\n",
       "    </tr>\n",
       "    <tr>\n",
       "      <th>70</th>\n",
       "      <td>1421626</td>\n",
       "      <td>Urdoxa</td>\n",
       "    </tr>\n",
       "    <tr>\n",
       "      <th>71</th>\n",
       "      <td>495185</td>\n",
       "      <td>Western esotericism</td>\n",
       "    </tr>\n",
       "    <tr>\n",
       "      <th>72</th>\n",
       "      <td>30676108</td>\n",
       "      <td>Wish fulfillment</td>\n",
       "    </tr>\n",
       "  </tbody>\n",
       "</table>\n",
       "<p>73 rows × 2 columns</p>\n",
       "</div>"
      ],
      "text/plain": [
       "      pageid                                        title\n",
       "0     102883                                       Belief\n",
       "1   14541296  Portal:Contents/Religion and belief systems\n",
       "2   31459363                 Affective disposition theory\n",
       "3   27573639                         Alief (mental state)\n",
       "4     191703                             Anthropocentrism\n",
       "5   19887527                         Availability cascade\n",
       "6    1392096                                    Bad faith\n",
       "7    1892726                                 Basic belief\n",
       "8   16670432                                Belief in God\n",
       "9   40111274                               Belief in luck\n",
       "10   1187311                              Belief revision\n",
       "11   3280462                Belief-desire-intention model\n",
       "12   5289291                    Blind men and an elephant\n",
       "13    169305                         Cognitive dissonance\n",
       "14  21478754                                 Common sense\n",
       "15     63392                            Consensus reality\n",
       "16    384236                               Crank (person)\n",
       "17    651358                                  Credibility\n",
       "18  24400334                                    Credulity\n",
       "19  27353457                      Cynicism (contemporary)\n",
       "20    125296                                     Delusion\n",
       "21    226660                       Dempster-Shafer theory\n",
       "22   1631852                                       Denial\n",
       "23  48656171                        Disclosing New Worlds\n",
       "24   4265764                                  Disposition\n",
       "25  21899301                     Disquotational principle\n",
       "26  18935258                                     Doctrine\n",
       "27   3063973                                         Doxa\n",
       "28   4649149                           Doxastic attitudes\n",
       "29  12065590                               Doxastic logic\n",
       "..       ...                                          ...\n",
       "43    158659                       Ideological assumption\n",
       "44    306326                                    Ignorance\n",
       "45  44523981            Implicit theories of intelligence\n",
       "46   1432410                                Leap of faith\n",
       "47   4392610                                  Life stance\n",
       "48  32024788                              Opinio tolerata\n",
       "49   1348330                                      Opinion\n",
       "50   6415906                                   Overbelief\n",
       "51     24897                                   Persuasion\n",
       "52  17645570                         Philosophical theory\n",
       "53  31564169                      Philosophy of happiness\n",
       "54  18081194                       Plausibility structure\n",
       "55  30431633                               Political myth\n",
       "56  34741578                               Popular belief\n",
       "57   4517698                         Pre-theoretic belief\n",
       "58    238114                                    Real life\n",
       "59    745202                               Reality tunnel\n",
       "60     42446                                       Reason\n",
       "61   4799593                                  Recantation\n",
       "62    188496                       Reflective equilibrium\n",
       "63  36534480                       Sailors' superstitions\n",
       "64  35300851                              Sententia certa\n",
       "65  35300776                      Sententia fidei proxima\n",
       "66  32024866                         Sententia probabilis\n",
       "67  22280378                           Source credibility\n",
       "68     28387                                 Spirituality\n",
       "69  30876878                       True-believer syndrome\n",
       "70   1421626                                       Urdoxa\n",
       "71    495185                          Western esotericism\n",
       "72  30676108                             Wish fulfillment\n",
       "\n",
       "[73 rows x 2 columns]"
      ]
     },
     "execution_count": 12,
     "metadata": {},
     "output_type": "execute_result"
    }
   ],
   "source": [
    "pd.DataFrame(responses[1]['pages'])"
   ]
  },
  {
   "cell_type": "markdown",
   "metadata": {},
   "source": [
    "### Acquire: Write page content to database\t"
   ]
  },
  {
   "cell_type": "code",
   "execution_count": 13,
   "metadata": {
    "collapsed": false
   },
   "outputs": [
    {
     "name": "stdout",
     "output_type": "stream",
     "text": [
      "Connected to server joshuacook.me.\n",
      "Connected to server joshuacook.me.\n",
      "Connected to server joshuacook.me.\n",
      "Connected to server joshuacook.me.\n",
      "Connected to server joshuacook.me.\n",
      "Connected to server joshuacook.me.\n",
      "Connected to server joshuacook.me.\n",
      "Connected to server joshuacook.me.\n",
      "Connected to server joshuacook.me.\n",
      "Connected to server joshuacook.me.\n",
      "Connected to server joshuacook.me.\n",
      "Connected to server joshuacook.me.\n",
      "Connected to server joshuacook.me.\n",
      "Connected to server joshuacook.me.\n",
      "Connected to server joshuacook.me.\n",
      "Connected to server joshuacook.me.\n",
      "Connected to server joshuacook.me.\n",
      "Connected to server joshuacook.me.\n",
      "Connected to server joshuacook.me.\n",
      "Connected to server joshuacook.me.\n",
      "Connected to server joshuacook.me.\n",
      "Connected to server joshuacook.me.\n",
      "Connected to server joshuacook.me.\n",
      "Connected to server joshuacook.me.\n",
      "Connected to server joshuacook.me.\n",
      "Connected to server joshuacook.me.\n",
      "Connected to server joshuacook.me.\n",
      "Connected to server joshuacook.me.\n",
      "Connected to server joshuacook.me.\n",
      "Connected to server joshuacook.me.\n",
      "Connected to server joshuacook.me.\n",
      "Connected to server joshuacook.me.\n",
      "Connected to server joshuacook.me.\n",
      "Connected to server joshuacook.me.\n",
      "Connected to server joshuacook.me.\n",
      "Connected to server joshuacook.me.\n",
      "Connected to server joshuacook.me.\n",
      "Connected to server joshuacook.me.\n",
      "Connected to server joshuacook.me.\n",
      "Connected to server joshuacook.me.\n",
      "Connected to server joshuacook.me.\n",
      "Connected to server joshuacook.me.\n",
      "Connected to server joshuacook.me.\n"
     ]
    }
   ],
   "source": [
    "dict_list = responses[0]['pages']\n",
    "for i in dict_list:\n",
    "    page_res = wiki.query_page(str(i['pageid']))\n",
    "    db.create_or_update_page_in_database(i['pageid'], '1056532', \n",
    "                                         i['title'], page_res['text'])    "
   ]
  },
  {
   "cell_type": "code",
   "execution_count": 14,
   "metadata": {
    "collapsed": false
   },
   "outputs": [
    {
     "name": "stdout",
     "output_type": "stream",
     "text": [
      "Connected to server joshuacook.me.\n",
      "Connected to server joshuacook.me.\n",
      "Connected to server joshuacook.me.\n",
      "Connected to server joshuacook.me.\n",
      "Connected to server joshuacook.me.\n",
      "Connected to server joshuacook.me.\n",
      "Connected to server joshuacook.me.\n",
      "Connected to server joshuacook.me.\n",
      "Connected to server joshuacook.me.\n",
      "Connected to server joshuacook.me.\n",
      "Connected to server joshuacook.me.\n",
      "Connected to server joshuacook.me.\n",
      "Connected to server joshuacook.me.\n",
      "Connected to server joshuacook.me.\n",
      "Connected to server joshuacook.me.\n",
      "Connected to server joshuacook.me.\n",
      "Connected to server joshuacook.me.\n",
      "Connected to server joshuacook.me.\n",
      "Connected to server joshuacook.me.\n",
      "Connected to server joshuacook.me.\n",
      "Connected to server joshuacook.me.\n",
      "Connected to server joshuacook.me.\n",
      "Connected to server joshuacook.me.\n",
      "Connected to server joshuacook.me.\n",
      "Connected to server joshuacook.me.\n",
      "Connected to server joshuacook.me.\n",
      "Connected to server joshuacook.me.\n",
      "Connected to server joshuacook.me.\n",
      "Connected to server joshuacook.me.\n",
      "Connected to server joshuacook.me.\n",
      "Connected to server joshuacook.me.\n",
      "Connected to server joshuacook.me.\n",
      "Connected to server joshuacook.me.\n",
      "Connected to server joshuacook.me.\n",
      "Connected to server joshuacook.me.\n",
      "Connected to server joshuacook.me.\n",
      "Connected to server joshuacook.me.\n",
      "Connected to server joshuacook.me.\n",
      "Connected to server joshuacook.me.\n",
      "Connected to server joshuacook.me.\n",
      "Connected to server joshuacook.me.\n",
      "Connected to server joshuacook.me.\n",
      "Connected to server joshuacook.me.\n"
     ]
    }
   ],
   "source": [
    "dict_list2 = responses[1]['pages']\n",
    "for i in dict_list:\n",
    "    page_res = wiki.query_page(str(i['pageid']))\n",
    "    db.create_or_update_page_in_database(i['pageid'], '695868', \n",
    "                                         i['title'], page_res['text'])   "
   ]
  },
  {
   "cell_type": "markdown",
   "metadata": {},
   "source": [
    "### Acquire: Query Wikipedia by page id for content\t"
   ]
  },
  {
   "cell_type": "code",
   "execution_count": 15,
   "metadata": {
    "collapsed": false
   },
   "outputs": [],
   "source": [
    "page_response = wiki.query_page(\"43467592\")\n",
    "pg_147020_txt = page_response['text']"
   ]
  },
  {
   "cell_type": "code",
   "execution_count": 16,
   "metadata": {
    "collapsed": false
   },
   "outputs": [
    {
     "data": {
      "text/plain": [
       "['pageid', 'summary', 'text', 'html']"
      ]
     },
     "execution_count": 16,
     "metadata": {},
     "output_type": "execute_result"
    }
   ],
   "source": [
    "page_response.keys()"
   ]
  }
 ],
 "metadata": {
  "anaconda-cloud": {},
  "kernelspec": {
   "display_name": "Python [default]",
   "language": "python",
   "name": "python2"
  },
  "language_info": {
   "codemirror_mode": {
    "name": "ipython",
    "version": 2
   },
   "file_extension": ".py",
   "mimetype": "text/x-python",
   "name": "python",
   "nbconvert_exporter": "python",
   "pygments_lexer": "ipython2",
   "version": "2.7.12"
  }
 },
 "nbformat": 4,
 "nbformat_minor": 1
}
